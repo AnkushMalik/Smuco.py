{
 "cells": [
  {
   "cell_type": "code",
   "execution_count": 4,
   "metadata": {},
   "outputs": [],
   "source": [
    "from sklearn.linear_model import LinearRegression\n",
    "import pandas as pd\n",
    "import numpy as np\n",
    "import datetime"
   ]
  },
  {
   "cell_type": "code",
   "execution_count": 34,
   "metadata": {},
   "outputs": [
    {
     "data": {
      "text/plain": [
       "11"
      ]
     },
     "execution_count": 34,
     "metadata": {},
     "output_type": "execute_result"
    }
   ],
   "source": [
    "def diff_month(d1, d2):\n",
    "    return (d1.year - d2.year) * 12 + d1.month - d2.month\n",
    "\n",
    "diff_month(datetime.date.today(),date2017)"
   ]
  },
  {
   "cell_type": "code",
   "execution_count": 38,
   "metadata": {},
   "outputs": [],
   "source": [
    "#generate dates\n",
    "date2016 = datetime.date(2016,7,3)\n",
    "date2017 = datetime.date(2017,4,19)\n",
    "date2012 = datetime.date(2012,9,24)\n",
    "date2014 = datetime.date(2014,11,16)\n",
    "thirty = (29,31)\n",
    "fifteen = (14,16)\n",
    "forty = (39,42)\n",
    "fifty = (49,54)\n",
    "sixty = (59,62)\n",
    "\n",
    "def make_data_string(st,user_id,interval,fdate = date2017):\n",
    "    datapoints = diff_month(datetime.date.today(),fdate)\n",
    "    for i in range(datapoints):\n",
    "        rnd = np.random.randint(*interval)\n",
    "        odate = date2017 + datetime.timedelta(i*rnd)\n",
    "        st += f'{user_id},{odate}|'\n",
    "    return st    "
   ]
  },
  {
   "cell_type": "code",
   "execution_count": 42,
   "metadata": {},
   "outputs": [
    {
     "data": {
      "text/plain": [
       "'1,2017-04-19|1,2017-05-18|1,2017-06-18|1,2017-07-15|1,2017-08-17|1,2017-09-11|1,2017-10-16|1,2017-11-08|1,2017-12-07|1,2018-01-14|1,2018-02-13|'"
      ]
     },
     "execution_count": 42,
     "metadata": {},
     "output_type": "execute_result"
    }
   ],
   "source": [
    "make_data_string(\"\",1,thirty)"
   ]
  },
  {
   "cell_type": "code",
   "execution_count": null,
   "metadata": {
    "collapsed": true
   },
   "outputs": [],
   "source": []
  }
 ],
 "metadata": {
  "kernelspec": {
   "display_name": "Python 3",
   "language": "python",
   "name": "python3"
  },
  "language_info": {
   "codemirror_mode": {
    "name": "ipython",
    "version": 3
   },
   "file_extension": ".py",
   "mimetype": "text/x-python",
   "name": "python",
   "nbconvert_exporter": "python",
   "pygments_lexer": "ipython3",
   "version": "3.6.2"
  }
 },
 "nbformat": 4,
 "nbformat_minor": 2
}
