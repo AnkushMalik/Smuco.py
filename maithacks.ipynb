{
 "cells": [
  {
   "cell_type": "code",
   "execution_count": 1,
   "metadata": {
    "collapsed": true
   },
   "outputs": [],
   "source": [
    "from sklearn.linear_model import LinearRegression\n",
    "import pandas as pd\n",
    "import numpy as np\n",
    "import datetime\n",
    "import pickle"
   ]
  },
  {
   "cell_type": "code",
   "execution_count": 2,
   "metadata": {
    "collapsed": true
   },
   "outputs": [],
   "source": [
    "#generate dates\n",
    "date2016 = datetime.date(2016,7,3)\n",
    "date2017 = datetime.date(2017,4,19)\n",
    "date2012 = datetime.date(2012,9,24)\n",
    "date2014 = datetime.date(2014,11,16)\n",
    "thirty = (29,31)\n",
    "fifteen = (14,16)\n",
    "forty = (39,42)\n",
    "fifty = (49,54)\n",
    "sixty = (59,62)\n"
   ]
  },
  {
   "cell_type": "code",
   "execution_count": 3,
   "metadata": {},
   "outputs": [
    {
     "data": {
      "text/plain": [
       "11"
      ]
     },
     "execution_count": 3,
     "metadata": {},
     "output_type": "execute_result"
    }
   ],
   "source": [
    "def diff_month(d1, d2):\n",
    "    return (d1.year - d2.year) * 12 + d1.month - d2.month\n",
    "\n",
    "diff_month(datetime.date.today(),date2017)"
   ]
  },
  {
   "cell_type": "code",
   "execution_count": 4,
   "metadata": {
    "collapsed": true
   },
   "outputs": [],
   "source": [
    "def make_data_string(st,user_id,interval,fdate = date2017):\n",
    "    datapoints = diff_month(datetime.date.today(),fdate)\n",
    "    for i in range(datapoints):\n",
    "        rnd = np.random.randint(*interval)\n",
    "        odate = date2017 + datetime.timedelta(i*rnd)\n",
    "        st += f'{user_id},{odate}|'\n",
    "    return st    "
   ]
  },
  {
   "cell_type": "code",
   "execution_count": 9,
   "metadata": {
    "collapsed": true
   },
   "outputs": [],
   "source": [
    "datastring = make_data_string(\"\",1,thirty)"
   ]
  },
  {
   "cell_type": "code",
   "execution_count": 23,
   "metadata": {},
   "outputs": [
    {
     "data": {
      "text/plain": [
       "'1,2017-04-19|1,2017-05-18|1,2017-06-16|1,2017-07-18|1,2017-08-17|1,2017-09-16|1,2017-10-10|1,2017-11-08|1,2017-12-07|1,2018-01-14|1,2018-02-03|2,2017-04-19|2,2017-06-19|2,2017-08-19|2,2017-10-13|2,2017-12-11|2,2018-02-13|2,2018-04-20|2,2018-06-13|2,2018-08-12|2,2018-10-20|2,2018-12-20|2,2019-01-28|2,2019-03-28|2,2019-06-08|2,2019-08-07|2,2019-10-06|2,2019-11-19|2,2020-02-20|2,2020-04-03|2,2020-06-02|3,2017-04-19|3,2017-05-30|3,2017-07-10|3,2017-08-17|3,2017-09-22|3,2017-10-31|3,2017-12-21|3,2018-01-31|3,2018-02-25|3,2018-04-23|3,2018-05-14|3,2018-06-22|3,2018-07-31|3,2018-09-08|3,2018-10-17|3,2018-11-25|3,2019-01-03|3,2019-02-11|3,2019-03-22|3,2019-05-19|4,2017-04-19|4,2017-05-03|4,2017-05-19|4,2017-05-31|4,2017-06-18|4,2017-07-03|4,2017-07-18|4,2017-08-02|4,2017-08-09|4,2017-09-01|4,2017-09-16|5,2017-04-19|5,2017-06-07|5,2017-07-26|5,2017-09-22|5,2017-11-01|5,2018-01-04|5,2018-02-25|5,2018-03-28|5,2018-05-16|5,2018-08-09|5,2018-10-01|5,2018-10-21|5,2019-01-03|5,2019-01-29|5,2019-03-20|5,2019-04-24|5,2019-06-28|5,2019-08-17|5,2019-09-18|5,2019-11-06|5,2019-12-25|5,2020-03-04|5,2020-04-23|5,2020-07-05|5,2020-09-18|5,2020-08-26|5,2020-12-05|5,2021-03-20|5,2021-04-14|5,2021-03-10|5,2021-08-26|5,2021-08-17|5,2021-08-04|5,2021-11-27|5,2022-01-17|5,2022-03-09|5,2022-02-16|5,2022-07-26|5,2022-08-09|5,2022-11-07|6,2017-04-19|6,2017-05-03|6,2017-05-17|6,2017-06-03|6,2017-06-14|6,2017-07-03|6,2017-07-18|6,2017-08-02|6,2017-08-17|6,2017-08-23|6,2017-09-06|7,2017-04-19|7,2017-06-18|7,2017-08-15|7,2017-10-13|7,2017-12-11|7,2018-02-13|7,2018-04-14|7,2018-06-20|7,2018-08-20|7,2018-10-11|7,2018-12-10|7,2019-01-28|7,2019-04-21|7,2019-06-08|7,2019-08-21|7,2019-09-21|7,2019-12-05|7,2020-02-20|7,2020-03-16|7,2020-06-02|7,2020-08-01|7,2020-10-21|7,2020-11-29|7,2021-01-28|7,2021-04-22|7,2021-06-22|7,2021-07-27|7,2021-10-22|7,2021-10-27|7,2022-01-23|7,2022-02-22|7,2022-06-23|7,2022-07-22|7,2022-09-20|7,2022-12-23|7,2023-01-18|7,2023-04-24|7,2023-05-18|7,2023-06-09|7,2023-09-15|7,2023-11-14|7,2024-02-23|7,2024-01-31|7,2024-05-12|7,2024-07-11|7,2024-10-24|7,2024-11-08|7,2025-02-23|7,2025-04-25|7,2025-03-19|7,2025-07-06|7,2025-07-15|7,2025-12-25|7,2026-02-24|7,2026-03-03|7,2026-05-02|7,2026-07-01|7,2026-07-04|7,2026-09-01|7,2027-02-25|7,2026-12-28|7,2027-04-27|7,2027-04-25|7,2027-10-27|7,2027-10-24|7,2027-12-23|8,2017-04-19|8,2017-05-19|8,2017-06-18|8,2017-07-15|8,2017-08-13|8,2017-09-11|8,2017-10-16|8,2017-11-15|8,2017-12-07|8,2018-01-05|8,2018-02-03|8,2018-03-04|8,2018-04-14|8,2018-05-14|8,2018-05-30|8,2018-07-13|8,2018-07-27|8,2018-09-11|8,2018-09-23|8,2018-11-10|8,2018-12-10|8,2019-01-09|8,2019-01-17|8,2019-03-10|8,2019-04-09|8,2019-04-14|8,2019-06-08|8,2019-06-11|8,2019-08-07|8,2019-09-06|8,2019-10-06|8,2019-10-05|8,2019-11-03|8,2019-12-02|8,2020-02-03|8,2020-03-04|8,2020-02-27|8,2020-03-27|8,2020-06-02|8,2020-07-02|8,2020-06-22|8,2020-07-21|8,2020-08-19|8,2020-10-30|8,2020-10-16|8,2020-12-29|8,2020-12-13|8,2021-01-11|8,2021-03-29|8,2021-03-10|8,2021-04-08|8,2021-06-27|8,2021-07-27|8,2021-07-04|8,2021-08-02|8,2021-08-31|8,2021-11-24|8,2021-12-24|8,2022-01-23|8,2021-12-25|8,2022-03-24|8,2022-04-23|8,2022-03-22|8,2022-06-22|8,2022-07-22|8,2022-08-21|9,2017-04-19|9,2017-05-18|9,2017-06-18|9,2017-07-15|9,2017-08-13|9,2017-09-11|9,2017-10-16|9,2017-11-08|9,2017-12-07|9,2018-01-05|9,2018-02-13|'"
      ]
     },
     "execution_count": 23,
     "metadata": {},
     "output_type": "execute_result"
    }
   ],
   "source": [
    "datastring = make_data_string(datastring,9,thirty,fdate=date2017)\n",
    "datastring"
   ]
  },
  {
   "cell_type": "code",
   "execution_count": 24,
   "metadata": {},
   "outputs": [
    {
     "data": {
      "text/plain": [
       "257"
      ]
     },
     "execution_count": 24,
     "metadata": {},
     "output_type": "execute_result"
    }
   ],
   "source": [
    "len(datastring.split('|'))"
   ]
  },
  {
   "cell_type": "code",
   "execution_count": 27,
   "metadata": {
    "collapsed": true
   },
   "outputs": [],
   "source": [
    "with open('data.csv','w') as f:\n",
    "    for i in datastring.split('|'):\n",
    "        f.write(i+'\\n')"
   ]
  },
  {
   "cell_type": "code",
   "execution_count": 5,
   "metadata": {},
   "outputs": [
    {
     "data": {
      "text/html": [
       "<div>\n",
       "<style>\n",
       "    .dataframe thead tr:only-child th {\n",
       "        text-align: right;\n",
       "    }\n",
       "\n",
       "    .dataframe thead th {\n",
       "        text-align: left;\n",
       "    }\n",
       "\n",
       "    .dataframe tbody tr th {\n",
       "        vertical-align: top;\n",
       "    }\n",
       "</style>\n",
       "<table border=\"1\" class=\"dataframe\">\n",
       "  <thead>\n",
       "    <tr style=\"text-align: right;\">\n",
       "      <th></th>\n",
       "      <th>user_id</th>\n",
       "      <th>order_date</th>\n",
       "    </tr>\n",
       "  </thead>\n",
       "  <tbody>\n",
       "    <tr>\n",
       "      <th>0</th>\n",
       "      <td>1</td>\n",
       "      <td>2017-04-19</td>\n",
       "    </tr>\n",
       "    <tr>\n",
       "      <th>1</th>\n",
       "      <td>1</td>\n",
       "      <td>2017-05-18</td>\n",
       "    </tr>\n",
       "    <tr>\n",
       "      <th>2</th>\n",
       "      <td>1</td>\n",
       "      <td>2017-06-16</td>\n",
       "    </tr>\n",
       "    <tr>\n",
       "      <th>3</th>\n",
       "      <td>1</td>\n",
       "      <td>2017-07-18</td>\n",
       "    </tr>\n",
       "    <tr>\n",
       "      <th>4</th>\n",
       "      <td>1</td>\n",
       "      <td>2017-08-17</td>\n",
       "    </tr>\n",
       "  </tbody>\n",
       "</table>\n",
       "</div>"
      ],
      "text/plain": [
       "   user_id  order_date\n",
       "0        1  2017-04-19\n",
       "1        1  2017-05-18\n",
       "2        1  2017-06-16\n",
       "3        1  2017-07-18\n",
       "4        1  2017-08-17"
      ]
     },
     "execution_count": 5,
     "metadata": {},
     "output_type": "execute_result"
    }
   ],
   "source": [
    "df = pd.read_csv('data.csv',header=None,date_parser=True)\n",
    "df.columns = ['user_id','order_date']\n",
    "df.head()"
   ]
  },
  {
   "cell_type": "code",
   "execution_count": 6,
   "metadata": {},
   "outputs": [
    {
     "data": {
      "text/html": [
       "<div>\n",
       "<style>\n",
       "    .dataframe thead tr:only-child th {\n",
       "        text-align: right;\n",
       "    }\n",
       "\n",
       "    .dataframe thead th {\n",
       "        text-align: left;\n",
       "    }\n",
       "\n",
       "    .dataframe tbody tr th {\n",
       "        vertical-align: top;\n",
       "    }\n",
       "</style>\n",
       "<table border=\"1\" class=\"dataframe\">\n",
       "  <thead>\n",
       "    <tr style=\"text-align: right;\">\n",
       "      <th></th>\n",
       "      <th>order_date</th>\n",
       "    </tr>\n",
       "    <tr>\n",
       "      <th>user_id</th>\n",
       "      <th></th>\n",
       "    </tr>\n",
       "  </thead>\n",
       "  <tbody>\n",
       "    <tr>\n",
       "      <th>1</th>\n",
       "      <td>11</td>\n",
       "    </tr>\n",
       "    <tr>\n",
       "      <th>2</th>\n",
       "      <td>20</td>\n",
       "    </tr>\n",
       "    <tr>\n",
       "      <th>3</th>\n",
       "      <td>20</td>\n",
       "    </tr>\n",
       "    <tr>\n",
       "      <th>4</th>\n",
       "      <td>11</td>\n",
       "    </tr>\n",
       "    <tr>\n",
       "      <th>5</th>\n",
       "      <td>40</td>\n",
       "    </tr>\n",
       "    <tr>\n",
       "      <th>6</th>\n",
       "      <td>11</td>\n",
       "    </tr>\n",
       "    <tr>\n",
       "      <th>7</th>\n",
       "      <td>66</td>\n",
       "    </tr>\n",
       "    <tr>\n",
       "      <th>8</th>\n",
       "      <td>66</td>\n",
       "    </tr>\n",
       "    <tr>\n",
       "      <th>9</th>\n",
       "      <td>11</td>\n",
       "    </tr>\n",
       "  </tbody>\n",
       "</table>\n",
       "</div>"
      ],
      "text/plain": [
       "         order_date\n",
       "user_id            \n",
       "1                11\n",
       "2                20\n",
       "3                20\n",
       "4                11\n",
       "5                40\n",
       "6                11\n",
       "7                66\n",
       "8                66\n",
       "9                11"
      ]
     },
     "execution_count": 6,
     "metadata": {},
     "output_type": "execute_result"
    }
   ],
   "source": [
    "df.groupby('user_id').count()"
   ]
  },
  {
   "cell_type": "code",
   "execution_count": null,
   "metadata": {
    "collapsed": true
   },
   "outputs": [],
   "source": [
    "sorted_df = df.sort_values(by=['user_id','order_date'])"
   ]
  },
  {
   "cell_type": "code",
   "execution_count": 21,
   "metadata": {
    "collapsed": true
   },
   "outputs": [],
   "source": [
    "sorted_df['order_date'] = pd.to_datetime(sorted_df['order_date'])"
   ]
  },
  {
   "cell_type": "code",
   "execution_count": 29,
   "metadata": {},
   "outputs": [
    {
     "ename": "AttributeError",
     "evalue": "'DatetimeProperties' object has no attribute 'days'",
     "output_type": "error",
     "traceback": [
      "\u001b[0;31m---------------------------------------------------------------------------\u001b[0m",
      "\u001b[0;31mAttributeError\u001b[0m                            Traceback (most recent call last)",
      "\u001b[0;32m<ipython-input-29-3d2167ebc287>\u001b[0m in \u001b[0;36m<module>\u001b[0;34m()\u001b[0m\n\u001b[0;32m----> 1\u001b[0;31m \u001b[0msorted_df\u001b[0m\u001b[0;34m[\u001b[0m\u001b[0msorted_df\u001b[0m\u001b[0;34m[\u001b[0m\u001b[0;34m'user_id'\u001b[0m\u001b[0;34m]\u001b[0m \u001b[0;34m==\u001b[0m \u001b[0;36m1\u001b[0m\u001b[0;34m]\u001b[0m\u001b[0;34m[\u001b[0m\u001b[0;34m'order_date'\u001b[0m\u001b[0;34m]\u001b[0m\u001b[0;34m.\u001b[0m\u001b[0mdt\u001b[0m\u001b[0;34m.\u001b[0m\u001b[0mdays\u001b[0m\u001b[0;34m\u001b[0m\u001b[0m\n\u001b[0m",
      "\u001b[0;31mAttributeError\u001b[0m: 'DatetimeProperties' object has no attribute 'days'"
     ]
    }
   ],
   "source": [
    "sorted_df[sorted_df['user_id'] == 1]['order_date'].dt.days"
   ]
  },
  {
   "cell_type": "code",
   "execution_count": 31,
   "metadata": {
    "collapsed": true
   },
   "outputs": [],
   "source": [
    "a = sorted_df[sorted_df['user_id'] == 1]['order_date'][:-1]"
   ]
  },
  {
   "cell_type": "code",
   "execution_count": 32,
   "metadata": {
    "collapsed": true
   },
   "outputs": [],
   "source": [
    " b = sorted_df[sorted_df['user_id'] == 1]['order_date'][1:]"
   ]
  },
  {
   "cell_type": "code",
   "execution_count": 48,
   "metadata": {},
   "outputs": [
    {
     "data": {
      "text/plain": [
       "array([29, 29, 32, 30, 30, 24, 29, 29, 38, 20], dtype='timedelta64[D]')"
      ]
     },
     "execution_count": 48,
     "metadata": {},
     "output_type": "execute_result"
    }
   ],
   "source": [
    "(b.values - a.values).astype('timedelta64[D]')"
   ]
  },
  {
   "cell_type": "code",
   "execution_count": 26,
   "metadata": {},
   "outputs": [
    {
     "data": {
      "text/plain": [
       "0       NaT\n",
       "1    0 days\n",
       "2    0 days\n",
       "3    0 days\n",
       "4    0 days\n",
       "5    0 days\n",
       "6    0 days\n",
       "7    0 days\n",
       "8    0 days\n",
       "9    0 days\n",
       "10      NaT\n",
       "Name: order_date, dtype: timedelta64[ns]"
      ]
     },
     "execution_count": 26,
     "metadata": {},
     "output_type": "execute_result"
    }
   ],
   "source": [
    " sorted_df[sorted_df['user_id'] == 1]['order_date'][1:] - sorted_df[sorted_df['user_id'] == 1]['order_date'][:-1]"
   ]
  },
  {
   "cell_type": "code",
   "execution_count": 49,
   "metadata": {
    "collapsed": true
   },
   "outputs": [],
   "source": [
    "def get_delta_array(sorted_df,user_id):\n",
    "    a = sorted_df[sorted_df['user_id'] == user_id]['order_date'][:-1]\n",
    "    b = sorted_df[sorted_df['user_id'] == user_id]['order_date'][1:]\n",
    "    target = (b.values - a.values).astype('timedelta64[D]')\n",
    "    return target"
   ]
  },
  {
   "cell_type": "code",
   "execution_count": 108,
   "metadata": {},
   "outputs": [
    {
     "data": {
      "text/plain": [
       "array([29, 29, 32, 30, 30, 24, 29, 29, 38, 20])"
      ]
     },
     "execution_count": 108,
     "metadata": {},
     "output_type": "execute_result"
    }
   ],
   "source": [
    "get_delta_array(sorted_df,1).astype('int')"
   ]
  },
  {
   "cell_type": "code",
   "execution_count": 113,
   "metadata": {},
   "outputs": [],
   "source": [
    "def create_learn_df(sorted_df):\n",
    "    temp_df = pd.DataFrame(columns=sorted_df.columns)\n",
    "    ss = []\n",
    "    for user in sorted_df.user_id.unique():\n",
    "        delta_array = get_delta_array(sorted_df,user).astype('int')\n",
    "    return pd.concat(ss)"
   ]
  },
  {
   "cell_type": "code",
   "execution_count": 151,
   "metadata": {},
   "outputs": [],
   "source": [
    "main_df = create_learn_df(sorted_df)"
   ]
  },
  {
   "cell_type": "code",
   "execution_count": 152,
   "metadata": {
    "collapsed": true
   },
   "outputs": [],
   "source": [
    "main_df['product'] = -100"
   ]
  },
  {
   "cell_type": "code",
   "execution_count": 184,
   "metadata": {},
   "outputs": [
    {
     "data": {
      "text/html": [
       "<div>\n",
       "<style>\n",
       "    .dataframe thead tr:only-child th {\n",
       "        text-align: right;\n",
       "    }\n",
       "\n",
       "    .dataframe thead th {\n",
       "        text-align: left;\n",
       "    }\n",
       "\n",
       "    .dataframe tbody tr th {\n",
       "        vertical-align: top;\n",
       "    }\n",
       "</style>\n",
       "<table border=\"1\" class=\"dataframe\">\n",
       "  <thead>\n",
       "    <tr style=\"text-align: right;\">\n",
       "      <th></th>\n",
       "      <th>delta</th>\n",
       "      <th>user_id</th>\n",
       "      <th>product</th>\n",
       "    </tr>\n",
       "  </thead>\n",
       "  <tbody>\n",
       "  </tbody>\n",
       "</table>\n",
       "</div>"
      ],
      "text/plain": [
       "Empty DataFrame\n",
       "Columns: [delta, user_id, product]\n",
       "Index: []"
      ]
     },
     "execution_count": 184,
     "metadata": {},
     "output_type": "execute_result"
    }
   ],
   "source": [
    "main_df.loc[(main_df['product'] == -100)]"
   ]
  },
  {
   "cell_type": "code",
   "execution_count": 186,
   "metadata": {},
   "outputs": [
    {
     "data": {
      "text/html": [
       "<div>\n",
       "<style>\n",
       "    .dataframe thead tr:only-child th {\n",
       "        text-align: right;\n",
       "    }\n",
       "\n",
       "    .dataframe thead th {\n",
       "        text-align: left;\n",
       "    }\n",
       "\n",
       "    .dataframe tbody tr th {\n",
       "        vertical-align: top;\n",
       "    }\n",
       "</style>\n",
       "<table border=\"1\" class=\"dataframe\">\n",
       "  <thead>\n",
       "    <tr style=\"text-align: right;\">\n",
       "      <th></th>\n",
       "      <th>delta</th>\n",
       "      <th>user_id</th>\n",
       "      <th>product</th>\n",
       "    </tr>\n",
       "  </thead>\n",
       "  <tbody>\n",
       "    <tr>\n",
       "      <th>0</th>\n",
       "      <td>29</td>\n",
       "      <td>1</td>\n",
       "      <td>1</td>\n",
       "    </tr>\n",
       "    <tr>\n",
       "      <th>1</th>\n",
       "      <td>29</td>\n",
       "      <td>1</td>\n",
       "      <td>1</td>\n",
       "    </tr>\n",
       "    <tr>\n",
       "      <th>2</th>\n",
       "      <td>32</td>\n",
       "      <td>1</td>\n",
       "      <td>2</td>\n",
       "    </tr>\n",
       "    <tr>\n",
       "      <th>3</th>\n",
       "      <td>30</td>\n",
       "      <td>1</td>\n",
       "      <td>2</td>\n",
       "    </tr>\n",
       "    <tr>\n",
       "      <th>4</th>\n",
       "      <td>30</td>\n",
       "      <td>1</td>\n",
       "      <td>2</td>\n",
       "    </tr>\n",
       "  </tbody>\n",
       "</table>\n",
       "</div>"
      ],
      "text/plain": [
       "   delta  user_id  product\n",
       "0     29        1        1\n",
       "1     29        1        1\n",
       "2     32        1        2\n",
       "3     30        1        2\n",
       "4     30        1        2"
      ]
     },
     "execution_count": 186,
     "metadata": {},
     "output_type": "execute_result"
    }
   ],
   "source": [
    "main_df.head()"
   ]
  },
  {
   "cell_type": "code",
   "execution_count": 187,
   "metadata": {},
   "outputs": [
    {
     "data": {
      "text/plain": [
       "(247, 3)"
      ]
     },
     "execution_count": 187,
     "metadata": {},
     "output_type": "execute_result"
    }
   ],
   "source": [
    "main_df.shape"
   ]
  },
  {
   "cell_type": "code",
   "execution_count": 194,
   "metadata": {},
   "outputs": [
    {
     "data": {
      "text/plain": [
       "LinearRegression(copy_X=True, fit_intercept=True, n_jobs=1, normalize=False)"
      ]
     },
     "execution_count": 194,
     "metadata": {},
     "output_type": "execute_result"
    }
   ],
   "source": [
    "pdtr = LinearRegression(normalize=False)\n",
    "pdtr.fit(main_df[['user_id','product']][:-50],main_df['delta'][:-50])"
   ]
  },
  {
   "cell_type": "code",
   "execution_count": 195,
   "metadata": {},
   "outputs": [
    {
     "data": {
      "text/plain": [
       "0.87210425956147286"
      ]
     },
     "execution_count": 195,
     "metadata": {},
     "output_type": "execute_result"
    }
   ],
   "source": [
    "pdtr.score(main_df[['user_id','product']][-50:],main_df['delta'][-50:])"
   ]
  },
  {
   "cell_type": "code",
   "execution_count": null,
   "metadata": {
    "collapsed": true
   },
   "outputs": [],
   "source": []
  }
 ],
 "metadata": {
  "kernelspec": {
   "display_name": "Python 3",
   "language": "python",
   "name": "python3"
  },
  "language_info": {
   "codemirror_mode": {
    "name": "ipython",
    "version": 3
   },
   "file_extension": ".py",
   "mimetype": "text/x-python",
   "name": "python",
   "nbconvert_exporter": "python",
   "pygments_lexer": "ipython3",
   "version": "3.6.2"
  }
 },
 "nbformat": 4,
 "nbformat_minor": 2
}
